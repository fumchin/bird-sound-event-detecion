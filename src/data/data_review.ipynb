{
 "cells": [
  {
   "cell_type": "code",
   "execution_count": 7,
   "metadata": {},
   "outputs": [],
   "source": [
    "import pandas as pd\n",
    "import os, os.path\n",
    "import config as cfg\n",
    "from glob import glob\n",
    "import librosa\n",
    "import soundfile as sf\n",
    "# from pydub import AudioSegment"
   ]
  },
  {
   "cell_type": "code",
   "execution_count": 8,
   "metadata": {},
   "outputs": [],
   "source": [
    "review_saved_path = os.path.join(\"/home/fumchin/data/bsed_20/dataset\", \"review\")\n",
    "bird_list = cfg.bird_list\n",
    "\n",
    "\n",
    "dataset_root = cfg.dataset_root\n",
    "annotation_path = os.path.join(dataset_root, \"annotation\")\n",
    "recording_path = os.path.join(dataset_root, \"wav\")\n",
    "domain_name_list = [name for name in os.listdir(annotation_path) if \"Recording\" in name]"
   ]
  },
  {
   "cell_type": "code",
   "execution_count": 10,
   "metadata": {},
   "outputs": [
    {
     "name": "stdout",
     "output_type": "stream",
     "text": [
      "Species                 BCCH\n",
      "Begin Time (s)    151.084983\n",
      "End Time (s)       151.14421\n",
      "Name: 137, dtype: object\n",
      "Species                 BCCH\n",
      "Begin Time (s)    170.117065\n",
      "End Time (s)      170.167831\n",
      "Name: 162, dtype: object\n",
      "Species                 BCCH\n",
      "Begin Time (s)    172.045785\n",
      "End Time (s)      172.109242\n",
      "Name: 165, dtype: object\n"
     ]
    }
   ],
   "source": [
    "for domain_name in domain_name_list:\n",
    "    current_annotation_path = os.path.join(annotation_path, domain_name)\n",
    "    current_recording_path = os.path.join(recording_path, domain_name)\n",
    "    \n",
    "    audio_files_path_list = glob(os.path.join(current_recording_path, \"*.wav\"))\n",
    "    # iterate through all wave files in the domain folder\n",
    "    for current_audio_files_path in audio_files_path_list:\n",
    "        wav_name = os.path.splitext(os.path.basename(current_audio_files_path))[0]\n",
    "        current_annotation_file_path = glob(os.path.join(current_annotation_path, wav_name + \"*.txt\"))[0]\n",
    "        annotation_df = pd.read_csv(current_annotation_file_path, sep=\"\\t\")\n",
    "\n",
    "        audio, sr = librosa.load(current_audio_files_path, sr=cfg.sr)\n",
    "        for index, row in annotation_df.iterrows():\n",
    "            if ((row['End Time (s)'] - row['Begin Time (s)']) < 0.064):\n",
    "                print(row[['Species', 'Begin Time (s)', 'End Time (s)']])"
   ]
  },
  {
   "cell_type": "code",
   "execution_count": 12,
   "metadata": {},
   "outputs": [
    {
     "name": "stdout",
     "output_type": "stream",
     "text": [
      "2\n"
     ]
    }
   ],
   "source": [
    "print(8 // 2 // 2)"
   ]
  }
 ],
 "metadata": {
  "kernelspec": {
   "display_name": "bsed",
   "language": "python",
   "name": "python3"
  },
  "language_info": {
   "codemirror_mode": {
    "name": "ipython",
    "version": 3
   },
   "file_extension": ".py",
   "mimetype": "text/x-python",
   "name": "python",
   "nbconvert_exporter": "python",
   "pygments_lexer": "ipython3",
   "version": "3.9.15"
  },
  "orig_nbformat": 4
 },
 "nbformat": 4,
 "nbformat_minor": 2
}
